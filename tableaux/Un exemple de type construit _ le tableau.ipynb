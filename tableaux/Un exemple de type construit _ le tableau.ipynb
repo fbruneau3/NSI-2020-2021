{
 "cells": [
  {
   "cell_type": "markdown",
   "metadata": {},
   "source": [
    "# <center><font color =\"red\">Un exemple de type construit : le Tableau</font></center>"
   ]
  },
  {
   "cell_type": "markdown",
   "metadata": {},
   "source": [
    "<font color =\"red\">ATTENTION :  </font>\n",
    "Dans la suite nous allons employer le terme \"tableau\". Pour parler de ces \"tableaux\" les concepteurs de Python ont choisi d'utiliser le terme de **\"list\"** (\"liste\" en français).  \n",
    "Pour éviter toute confusion, notamment par rapport à des notions qui seront abordées en terminale, le choix a été fait d'employer \"tableau\" à la place de \"liste\" (dans la documentation vous rencontrerez le terme \"list\", cela ne devra pas vous pertuber). "
   ]
  },
  {
   "cell_type": "markdown",
   "metadata": {},
   "source": [
    "Les tableaux sont des séquences pouvant être modifiées(on parle d'objets __\"mutables\"__).  \n",
    "Un tableau permet de stockées des données.   \n",
    "C'est un ensemble ordonné d'éléments avec des indices pour les repérer.  \n",
    "\n"
   ]
  },
  {
   "cell_type": "markdown",
   "metadata": {},
   "source": [
    "## <font color=#3D6BBC > Création d'un tableau </font>"
   ]
  },
  {
   "cell_type": "markdown",
   "metadata": {},
   "source": [
    "Il suffit de séparer les éléments par des virgules et de placer des crochets aux extrémités."
   ]
  },
  {
   "cell_type": "markdown",
   "metadata": {},
   "source": [
    "|   *tableau*                            |    *Type de tableau*                             |\n",
    "|:-------------------------------------- |:-------------------------------------------------|\n",
    "| tab1 = [ 1, 2, 3 ]                     |      tableau d'entiers                           |\n",
    "| tab2 = [ 11.2, 5.0 , 8.0 , 21.5 ]      |      tableau de flottants                        | \n",
    "| tab3 = [[1, 2] , [1] , [2, 1, 3 ] ]    |      tableau de tableau (ou matrice) d'entiers   | \n",
    "| tab4 = [ ]                             |      tableau vide                                |\n"
   ]
  },
  {
   "cell_type": "markdown",
   "metadata": {},
   "source": [
    "## <font color=#3D6BBC > Lire un élément d'un tableau grâce à son indice </font>"
   ]
  },
  {
   "cell_type": "markdown",
   "metadata": {},
   "source": [
    "![center](liste1.png)"
   ]
  },
  {
   "cell_type": "markdown",
   "metadata": {},
   "source": [
    ">**tab1[2] vaut 3**"
   ]
  },
  {
   "cell_type": "markdown",
   "metadata": {},
   "source": [
    "Pour connaître la longueur d'un tableau, on utilise la fonction prédéfinie **_len()_**.   \n",
    "<u> **Question 1** </u>: Quelle est la longueur de tab1? Vérifier le type de tab1."
   ]
  },
  {
   "cell_type": "code",
   "execution_count": null,
   "metadata": {},
   "outputs": [],
   "source": [
    "tab1=[1,2,3]\n",
    "len(tab1)"
   ]
  },
  {
   "cell_type": "code",
   "execution_count": null,
   "metadata": {},
   "outputs": [],
   "source": [
    "type(tab1)"
   ]
  },
  {
   "cell_type": "markdown",
   "metadata": {},
   "source": [
    "Le tableau possède 3 éléments, sa longueur est donc de 3."
   ]
  },
  {
   "cell_type": "markdown",
   "metadata": {},
   "source": [
    "![center](liste3.png)"
   ]
  },
  {
   "cell_type": "markdown",
   "metadata": {},
   "source": [
    "On remarque que l'indice des éléments commence à __0__.   \n",
    "<u> **Question 2** </u>: Quelle est la longueur du tableau3?  \n",
    "<u> **Question 3** </u>: Que vaut tab3[0]?  \n",
    "<u> **Question 4** </u>: Que vaut tab3[2][1]?  "
   ]
  },
  {
   "cell_type": "code",
   "execution_count": null,
   "metadata": {},
   "outputs": [],
   "source": [
    "tab3=[[1,2],[1],[2,1,3]]\n",
    "tab3[0]"
   ]
  },
  {
   "cell_type": "code",
   "execution_count": null,
   "metadata": {},
   "outputs": [],
   "source": [
    "tab3[2][1]"
   ]
  },
  {
   "cell_type": "markdown",
   "metadata": {},
   "source": [
    "<u> **Question 5** </u>: Que doit-on demander pour obtenir la valeur 3 du tableau?"
   ]
  },
  {
   "cell_type": "code",
   "execution_count": null,
   "metadata": {},
   "outputs": [],
   "source": [
    "tab3[2][2]"
   ]
  },
  {
   "cell_type": "markdown",
   "metadata": {},
   "source": [
    "<u> **Question 6** </u>: Quelle est la longueur de tab3?"
   ]
  },
  {
   "cell_type": "code",
   "execution_count": null,
   "metadata": {},
   "outputs": [],
   "source": [
    "len(tab3)"
   ]
  },
  {
   "cell_type": "markdown",
   "metadata": {},
   "source": [
    "## <font color=#3D6BBC > Modifier les élements d'un tableau </font>"
   ]
  },
  {
   "cell_type": "markdown",
   "metadata": {},
   "source": [
    "Reprenons le tableau 2.   \n",
    "<u> **Question 7** </u>: Quelle est la longueur du tableau 2?"
   ]
  },
  {
   "cell_type": "code",
   "execution_count": null,
   "metadata": {},
   "outputs": [],
   "source": [
    "len(tab2)"
   ]
  },
  {
   "cell_type": "markdown",
   "metadata": {},
   "source": [
    "On souhaite remplacer 11.2 par 15.6 en affectant la nouvelle valeur: \n",
    "> **tab2[0] = 15.6**  \n",
    "\n",
    "<u> **Question 8** </u> : Faire afficher le tableau 2 après transformation."
   ]
  },
  {
   "cell_type": "code",
   "execution_count": null,
   "metadata": {},
   "outputs": [],
   "source": [
    "tab2 = [ 11.2, 5.0 , 8.0 , 21.5 ]\n",
    "tab2[0]=15.6\n",
    "print(tab2)"
   ]
  },
  {
   "cell_type": "markdown",
   "metadata": {},
   "source": [
    "Il est possible d'ajouter un élément en fin de tableau avec la méthode **append**.\n",
    "On souhaite ajouter à la fin du tableau 2 l'élément 26.7 en exécutant l'instruction suivante:\n",
    "> **tab2.append(26.7)**\n",
    "\n",
    "<u> **Question 9** </u>:  Faire afficher le tableau après modification."
   ]
  },
  {
   "cell_type": "code",
   "execution_count": null,
   "metadata": {},
   "outputs": [],
   "source": [
    "tab2.append(26.7)\n",
    "print(tab2)"
   ]
  },
  {
   "cell_type": "markdown",
   "metadata": {},
   "source": [
    "<u> **Question 10** </u>: Comment faire afficher uniquement l'élément 26.7?"
   ]
  },
  {
   "cell_type": "code",
   "execution_count": null,
   "metadata": {},
   "outputs": [],
   "source": [
    "tab2[4]"
   ]
  },
  {
   "cell_type": "markdown",
   "metadata": {},
   "source": [
    " <u> **Question 11** </u>:  Qu'est devenue la longueur de tab2?"
   ]
  },
  {
   "cell_type": "code",
   "execution_count": null,
   "metadata": {},
   "outputs": [],
   "source": [
    "len(tab2)"
   ]
  },
  {
   "cell_type": "markdown",
   "metadata": {},
   "source": [
    "## <font color=#3D6BBC > Remarque  </font>"
   ]
  },
  {
   "cell_type": "markdown",
   "metadata": {},
   "source": [
    "Les chaînes de caractères sont des séquences de caractères. Chacun de ceux-ci occupe une place précise dans la séquence. Sous Python, les éléments d'une séquence sont \"indicés\" ou \"indexés\" (numérotés) de la même manière que les tableaux (ou listes), à partir de zéro.    \n",
    "<font color =\"red\">ATTENTION :  </font>  \n",
    "Il n'est pas possible de modifier une séquence de caractères."
   ]
  },
  {
   "cell_type": "markdown",
   "metadata": {},
   "source": [
    " <u> **Question 12** </u>: Exécuter le code suivant."
   ]
  },
  {
   "cell_type": "code",
   "execution_count": null,
   "metadata": {},
   "outputs": [],
   "source": [
    "nom = \"Cédric\"\n",
    "print(nom[0],nom[3],nom[5])"
   ]
  },
  {
   "cell_type": "markdown",
   "metadata": {},
   "source": [
    " <u> **Question 13** </u>: Quelle est la longueur de nom? Quel est le type de nom?\n",
    "        "
   ]
  },
  {
   "cell_type": "code",
   "execution_count": null,
   "metadata": {},
   "outputs": [],
   "source": [
    "len(nom)"
   ]
  },
  {
   "cell_type": "code",
   "execution_count": null,
   "metadata": {},
   "outputs": [],
   "source": [
    "type(nom)"
   ]
  }
 ],
 "metadata": {
  "kernelspec": {
   "display_name": "Python 3",
   "language": "python",
   "name": "python3"
  },
  "language_info": {
   "codemirror_mode": {
    "name": "ipython",
    "version": 3
   },
   "file_extension": ".py",
   "mimetype": "text/x-python",
   "name": "python",
   "nbconvert_exporter": "python",
   "pygments_lexer": "ipython3",
   "version": "3.7.1"
  }
 },
 "nbformat": 4,
 "nbformat_minor": 2
}

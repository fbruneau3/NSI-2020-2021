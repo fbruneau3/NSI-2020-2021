{
 "cells": [
  {
   "cell_type": "markdown",
   "metadata": {},
   "source": [
    "# <center><font color =\"red\">Boucle bornée ou boucle for</font></center>"
   ]
  },
  {
   "cell_type": "markdown",
   "metadata": {},
   "source": [
    "![center](boucle.jpg)  \n",
    "<center>http://www.jybaudot.fr/Programmation/pyfor.html </center>"
   ]
  },
  {
   "cell_type": "markdown",
   "metadata": {},
   "source": [
    "<u> **Définition** </u> : Une boucle for permet de répéter un nombre de fois prédéterminé une séquence d'instructions."
   ]
  },
  {
   "cell_type": "markdown",
   "metadata": {},
   "source": [
    " ## <font color=#3D6BBC > Exemple 1 </font>"
   ]
  },
  {
   "cell_type": "markdown",
   "metadata": {},
   "source": [
    "![center](ex1.png)  "
   ]
  },
  {
   "cell_type": "markdown",
   "metadata": {},
   "source": [
    "Tester le code suivant:    "
   ]
  },
  {
   "cell_type": "code",
   "execution_count": 3,
   "metadata": {},
   "outputs": [
    {
     "name": "stdout",
     "output_type": "stream",
     "text": [
      "elem a pour valeur  0\n",
      "elem a pour valeur  1\n",
      "elem a pour valeur  2\n",
      "elem a pour valeur  3\n"
     ]
    }
   ],
   "source": [
    "for elem in [0,1,2,3]: # la variable elem(pour élément) prend une à une les valeurs des éléments du tableau\n",
    "    print(\"elem a pour valeur \",elem)"
   ]
  },
  {
   "cell_type": "markdown",
   "metadata": {},
   "source": [
    "On dit qu'on réalise une **itération** de la boucle à chaque fois que le corps de la boucle est exécutée."
   ]
  },
  {
   "cell_type": "markdown",
   "metadata": {},
   "source": [
    "Il est possible d'obtenir le même résultat avec le code suivant:"
   ]
  },
  {
   "cell_type": "code",
   "execution_count": 4,
   "metadata": {},
   "outputs": [
    {
     "name": "stdout",
     "output_type": "stream",
     "text": [
      "elem a pour valeur  0\n",
      "elem a pour valeur  1\n",
      "elem a pour valeur  2\n",
      "elem a pour valeur  3\n"
     ]
    }
   ],
   "source": [
    "tab1= [0,1,2,3]\n",
    "for elem in tab1: \n",
    "    print(\"elem a pour valeur \",elem)"
   ]
  },
  {
   "cell_type": "markdown",
   "metadata": {},
   "source": [
    "### Remarque:\n",
    "De la même manière, l'itérable peut être une chaîne de caractère."
   ]
  },
  {
   "cell_type": "code",
   "execution_count": 5,
   "metadata": {},
   "outputs": [
    {
     "name": "stdout",
     "output_type": "stream",
     "text": [
      "t\n",
      "o\n",
      "t\n",
      "o\n"
     ]
    }
   ],
   "source": [
    "nom = \"toto\"\n",
    "for lettre in nom:\n",
    "    print(lettre)"
   ]
  },
  {
   "cell_type": "markdown",
   "metadata": {},
   "source": [
    " ## <font color=#3D6BBC > Exemple 2 </font>"
   ]
  },
  {
   "cell_type": "markdown",
   "metadata": {},
   "source": [
    "![center](ex2.png)  "
   ]
  },
  {
   "cell_type": "markdown",
   "metadata": {},
   "source": [
    "Les variables debut, fin et pas sont des **entiers**.   \n",
    "<font color =\"red\">ATTENTION :  </font> i varie de debut à **fin exclus**.     \n",
    "*debut* est optionnel et vaut 0 s'il est omis.   \n",
    "De même *pas* est optionnel et vaut 1 s'il est omis."
   ]
  },
  {
   "cell_type": "markdown",
   "metadata": {},
   "source": [
    "Par exemple, dans le script suivant i vaudra de 0 à 3 exclu (donc 2):"
   ]
  },
  {
   "cell_type": "code",
   "execution_count": 6,
   "metadata": {},
   "outputs": [
    {
     "name": "stdout",
     "output_type": "stream",
     "text": [
      "i vaut:  0\n",
      "i vaut:  1\n",
      "i vaut:  2\n"
     ]
    }
   ],
   "source": [
    "# Tester le code suivant\n",
    "for i in range(3):\n",
    "    print(\"i vaut: \",i)"
   ]
  },
  {
   "cell_type": "markdown",
   "metadata": {},
   "source": [
    "Dans le script suivant, i vaudra de 2 à 10 exclu par pas de 2:\n",
    "Tester le code suivant:"
   ]
  },
  {
   "cell_type": "code",
   "execution_count": 7,
   "metadata": {},
   "outputs": [
    {
     "name": "stdout",
     "output_type": "stream",
     "text": [
      "i vaut:  2\n",
      "i vaut:  4\n",
      "i vaut:  6\n",
      "i vaut:  8\n"
     ]
    }
   ],
   "source": [
    "for i in range(2,10,2):\n",
    "    print(\"i vaut: \",i)"
   ]
  },
  {
   "cell_type": "markdown",
   "metadata": {},
   "source": [
    " ## <font color=#3D6BBC > Construction d'un tableau par compréhension </font>"
   ]
  },
  {
   "cell_type": "markdown",
   "metadata": {},
   "source": [
    "On peut faire appel à une boucle for pour construire un tableau."
   ]
  },
  {
   "cell_type": "markdown",
   "metadata": {},
   "source": [
    "### Première façon de construire un tableau avec la méthode append()"
   ]
  },
  {
   "cell_type": "code",
   "execution_count": 8,
   "metadata": {},
   "outputs": [
    {
     "name": "stdout",
     "output_type": "stream",
     "text": [
      "[0, 1, 2, 3, 4]\n"
     ]
    }
   ],
   "source": [
    "Tab=[] # Initialisation du tableau\n",
    "for i in range (5):  # i vaut 0, puis 1, puis 2, puis 3, puis 4\n",
    "    Tab.append(i)    # on ajoute i à la fin du tableau à chaque tour de boucle\n",
    "print(Tab)"
   ]
  },
  {
   "cell_type": "markdown",
   "metadata": {},
   "source": [
    "### deuxième façon de construire un tableau : par compréhension"
   ]
  },
  {
   "cell_type": "code",
   "execution_count": 9,
   "metadata": {},
   "outputs": [
    {
     "name": "stdout",
     "output_type": "stream",
     "text": [
      "[0, 1, 2, 3, 4]\n"
     ]
    }
   ],
   "source": [
    "Tab = [ i for i in range(5)]\n",
    "print(Tab)"
   ]
  },
  {
   "cell_type": "markdown",
   "metadata": {},
   "source": [
    "### Les compréhensions de tableau permettent de rajouter une condition (if)"
   ]
  },
  {
   "cell_type": "markdown",
   "metadata": {},
   "source": [
    "Quel est le contenu du tableau référencé par la variable Tab2 après l'éxécution du programme ci-dessous?"
   ]
  },
  {
   "cell_type": "code",
   "execution_count": 10,
   "metadata": {},
   "outputs": [
    {
     "name": "stdout",
     "output_type": "stream",
     "text": [
      "[15, 20]\n"
     ]
    }
   ],
   "source": [
    "Tab1= [1,7,9,15,5,20,10,8]\n",
    "Tab2=[i for i in Tab1 if i>10]\n",
    "print(Tab2)"
   ]
  },
  {
   "cell_type": "code",
   "execution_count": null,
   "metadata": {},
   "outputs": [],
   "source": []
  },
  {
   "cell_type": "code",
   "execution_count": null,
   "metadata": {},
   "outputs": [],
   "source": []
  }
 ],
 "metadata": {
  "kernelspec": {
   "display_name": "Python 3",
   "language": "python",
   "name": "python3"
  },
  "language_info": {
   "codemirror_mode": {
    "name": "ipython",
    "version": 3
   },
   "file_extension": ".py",
   "mimetype": "text/x-python",
   "name": "python",
   "nbconvert_exporter": "python",
   "pygments_lexer": "ipython3",
   "version": "3.7.1"
  }
 },
 "nbformat": 4,
 "nbformat_minor": 2
}

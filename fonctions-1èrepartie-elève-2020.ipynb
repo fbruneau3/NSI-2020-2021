{
 "cells": [
  {
   "cell_type": "markdown",
   "metadata": {},
   "source": [
    "# <center><font color =\"red\">Les fonctions en Python</font></center>\n",
    "## <center><font color =\"red\">1ère partie</font></center>"
   ]
  },
  {
   "cell_type": "markdown",
   "metadata": {},
   "source": [
    "***"
   ]
  },
  {
   "cell_type": "markdown",
   "metadata": {},
   "source": [
    "## <font color=#3D6BBC > Introduction</font>"
   ]
  },
  {
   "cell_type": "markdown",
   "metadata": {},
   "source": [
    "Les scripts écrits, depuis le début d'année, étaient assez simples. Pour des programmes plus complexes, le nombre de lignes de code peut devenir très important. \n",
    "\n",
    "Pour faciliter la lecture du code, la compréhension et le débogage, vous allez apprendre à \"découper\" le code en créant des fonctions. Ces dernières permettent de regrouper une suite d'instructions qui revient plusieurs fois. \n"
   ]
  },
  {
   "cell_type": "markdown",
   "metadata": {},
   "source": [
    ">Dans les langages de programmation, une <font size='3' color=#3D6BBC><strong> <em>fonction</em></strong> </font>est une instruction isolée du reste du programme, qui possède un nom, et qui peut être appelée par ce nom à n'importe quel endroit du programme et autant de fois que l'on veut.\" <strong>Gilles Dowek</strong>"
   ]
  },
  {
   "cell_type": "markdown",
   "metadata": {},
   "source": [
    "Depuis le début de l'année, vous avez déjà utilisé des <strong><font size='3' color=#3D6BBC> fonctions prédéfinies</font></strong> comme int(x), type(x), str(x), float(x), print(x),input(x)... Ce sont des fonctions déjà construites de python. \n",
    "\n",
    "Mais un programmeur crée souvent ses propres fonctions.  \n",
    "\n",
    "Il existe deux types de fonctions:  \n",
    "\n",
    "* <strong>les fonctions sans paramètre</strong>\n",
    "* <strong>les fonctions avec paramètres</strong>  \n",
    "\n",
    "\n",
    "Dans un premier temps, vous allez créer vos propres fonctions dans le même fichier que le programme principal. Puis vous allez apprendre à mettre les fonctions dans un fichier séparé en créant vos propres modules.\n"
   ]
  },
  {
   "cell_type": "markdown",
   "metadata": {},
   "source": [
    "## <font color=#3D6BBC > Fonctions <u>sans</u> paramètres</font>\n"
   ]
  },
  {
   "cell_type": "markdown",
   "metadata": {},
   "source": [
    "Voici un code qui permet de calculer l'âge de 2 personnes Sophie et Pierre.  \n",
    "Exécuter le code (Exécuter) et essayer de le comprendre."
   ]
  },
  {
   "cell_type": "code",
   "execution_count": 1,
   "metadata": {},
   "outputs": [
    {
     "name": "stdout",
     "output_type": "stream",
     "text": [
      "En 2019 , sophie a 17 ans\n",
      "En 2019 , Pierre a 21 ans\n"
     ]
    }
   ],
   "source": [
    "# calcul de l'âge de Sophie\n",
    "annee_actuelle=2019\n",
    "annee_naissance=2002\n",
    "prenom=\"sophie\"\n",
    "age=annee_actuelle-annee_naissance\n",
    "print('En',annee_actuelle,',',prenom,'a',age,'ans')\n",
    "\n",
    "# calcul de l'âge de Pierre\n",
    "annee_actuelle=2019\n",
    "annee_naissance=1998\n",
    "prenom=\"Pierre\"\n",
    "age=annee_actuelle-annee_naissance\n",
    "print('En',annee_actuelle,',',prenom,'a',age,'ans')"
   ]
  },
  {
   "cell_type": "markdown",
   "metadata": {},
   "source": [
    "Ouvrir [Python Tutor](http://pythontutor.com/visualize.html#mode=edit).  \n",
    "Copier le code ci-dessus dans la fenêtre de la page de python Tutor.   \n",
    "Cliquer sur Visualize Execution.\n",
    "Observer le déroulement pas à pas du programme en cliquant sur forward."
   ]
  },
  {
   "cell_type": "markdown",
   "metadata": {},
   "source": [
    "Noter vos observations ici:\n",
    "   <font color=red> .................................................... </font>\n",
    "    \n",
    "    "
   ]
  },
  {
   "cell_type": "markdown",
   "metadata": {},
   "source": [
    "Si l'on compare le code permettant de calculer l'âge de Sophie et celui permettant de calculer l'âge de Pierre. Il y a beaucoup de ressemblances.\n",
    "Nous allons donc le simplifier en créant une fonction."
   ]
  },
  {
   "cell_type": "markdown",
   "metadata": {},
   "source": [
    "<div class=\"bg-info \">\n",
    "<font size='4' color=#3D6BBC>Syntaxe de python pour les fonctions <u>sans</u> paramètre:</font>      \n",
    "\n",
    "<center> <strong><font color =red size='3'>    def nom_de_la_fonction ():   </font></strong>  </center>\n",
    "\n",
    "<center> <strong><font color =red size='3'>        #bloc d'instructions  </font></strong>  </center>\n",
    "\n",
    "<ul>\n",
    "    <li> Une fonction se place au début du programme avant le programme principal.</li>\n",
    "<li> le mot clé <strong><font size='3' color=green> def  </font></strong> (abréviation de 'define' qui signifie définir en anglais) annonce la définition d'une nouvelle fonction</li>\n",
    "<li><strong><font size='3'>nom_de_la_fonction</font></strong> : il utilise les mêmes règles que pour les identifiants de variables (ne pas commencer par un chiffre, ne pas utiliser un mot clé existant, pas d'espace... Il faut lui donner un nom explicite comprendre facilement son rôle surtout lors de son appel.</li>\n",
    "<li>Nous verrons plus tard comment spécifier la fonction.</li>\n",
    "<li>le nom de fonction est suivi par <strong><font size='3'>()</font></strong> et la ligne se termine par <strong><font size='3'> : </font> </strong></li>\n",
    "<li>le bloc d'instruction doit être <strong>indenté </strong> comme les instructions if, while ou for.</li>\n",
    "<li>La fonction est appelée dans le programme principal par le code : <strong><font size='3'>nom_de_la_fonction()</font></strong></li>\n",
    "    </ul>\n",
    "</div>"
   ]
  },
  {
   "cell_type": "markdown",
   "metadata": {},
   "source": [
    "Reprenons l'exemple précédent, nous allons créer une fonction qui calculera l'âge."
   ]
  },
  {
   "cell_type": "code",
   "execution_count": null,
   "metadata": {},
   "outputs": [],
   "source": [
    "############ Fonctions ######################################\n",
    "\n",
    "def calcul_age():\n",
    "    \"\"\" Fonction permettant de calculer l'âge d'une personne\"\"\"\n",
    "    age=annee_actuelle-annee_naissance\n",
    "    print('En',annee_actuelle,',',prenom,'a',age,'ans')\n",
    "    \n",
    "\n",
    "################ programme principal ############################\n",
    "\n",
    "# calcul de l'âge de Sophie\n",
    "annee_actuelle=2019\n",
    "annee_naissance=2002\n",
    "prenom=\"sophie\"\n",
    "calcul_age()  #appel de la fonction calcul_age()\n",
    "\n",
    "\n",
    "# calcul de l'âge de Pierre\n",
    "annee_actuelle=2019\n",
    "annee_naissance=1998\n",
    "prenom=\"Pierre\"\n",
    "calcul_age() #appel de la fonction calcul_age()"
   ]
  },
  {
   "cell_type": "markdown",
   "metadata": {},
   "source": [
    "Le bout de code commun a été mis dans la fonction:\n",
    ">age=annee_actuelle-annee_naissance  \n",
    "> print('En',annee_actuelle,',',prenom,'a',age,'ans')\n",
    "\n",
    "Le programme possède maintenant deux blocs :\n",
    "* la fonction\n",
    "* le programme principal comportant l'appel de la fonction par calcul_age()"
   ]
  },
  {
   "cell_type": "markdown",
   "metadata": {},
   "source": [
    "Exécuter le code ci-dessus. Le résultat est-il le même? <font color=red>.................</font>"
   ]
  },
  {
   "cell_type": "markdown",
   "metadata": {},
   "source": [
    "Ouvrir [Python Tutor](http://pythontutor.com/visualize.html#mode=edit).  \n",
    "Copier le code ci-dessus dans la fenêtre de la page de python Tutor.   \n",
    "Cliquer sur Visualize Execution.\n",
    "Observer le déroulement pas à pas du programme en cliquant sur forward.\n",
    "Est-ce le même déroulement que précédemment?"
   ]
  },
  {
   "cell_type": "markdown",
   "metadata": {},
   "source": [
    "Noter vos observations ici: <font color=red>............................................................     \n",
    "    ......................................................................................................\n",
    "    ..........................................................................................................\n",
    "</font>\n"
   ]
  },
  {
   "cell_type": "markdown",
   "metadata": {},
   "source": [
    "### Différence entre l'instruction return et la fonction print()\n",
    "Reprenons l'exemple précédent en créant deux nouvelles fonctions:\n",
    "* annee_naissance() pour demander l'année de naissance\n",
    "* prenom()pour demander le prénom"
   ]
  },
  {
   "cell_type": "code",
   "execution_count": null,
   "metadata": {},
   "outputs": [],
   "source": [
    "############ Fonctions ######################################\n",
    "def annee_naissance():\n",
    "    \"\"\" Fonction permettant de renvoyer la date de naissance de la personne\"\"\"\n",
    "    res=int(input(\"Entrer l'année de naissance :\"))\n",
    "    return res #l'instruction return renvoie la valeur res pour être récupérée puis stockée dans une variable.\n",
    "\n",
    "def prenom():\n",
    "    \"\"\" Fonction permettant de renvoyer la date de naissance de la personne\"\"\"\n",
    "    res=input(\"Entrer le prénom :\")\n",
    "    return res\n",
    "\n",
    "def calcul_age():\n",
    "    \"\"\" Fonction permettant de calculer l'âge d'une personne\"\"\"\n",
    "    age=annee_actuelle-naissance\n",
    "    print('En',annee_actuelle,',',pre,'a',age,'ans')\n",
    "\n",
    "\n",
    "################ programme principal ############################\n",
    "\n",
    "# calcul de l'âge de Sophie\n",
    "naissance=annee_naissance()\n",
    "pre=prenom()\n",
    "calcul_age()  #appel de la fonction calcul_age()\n",
    "\n",
    "\n",
    "# calcul de l'âge de Pierre\n",
    "naissance=annee_naissance()\n",
    "pre=prenom()\n",
    "calcul_age() #appel de la fonction calcul_age()"
   ]
  },
  {
   "cell_type": "markdown",
   "metadata": {},
   "source": [
    "Exécuter le code ci-dessus.   \n",
    "Répondre aux questions suivantes ici:  \n",
    "Que renvoie le premier appel de la fonction annee_naissance()? (préciser le type de variable.): <font color=red> ...............................</font>   \n",
    "Que renvoie le premier appel de la fonction prenom()?(préciser le type de variable.)<font color=red> .................................</font>   \n",
    "Que renvoie le deuxième appel de la fonction annee_naissance()?(préciser le type de variable.)<font color=red> ........................ </font>   \n",
    "Que renvoie le premier appel de la fonction prenom()?(préciser le type de variable.)<font color=red> ............................................</font>   \n",
    "<u><strong>ATTENTION </strong></u> : La fonction *print* ne renvoie rien mais \"affiche\" des résultats.  \n",
    "\n"
   ]
  },
  {
   "cell_type": "markdown",
   "metadata": {},
   "source": [
    "### Exercice 1\n",
    "Modifiez-le dans la cellule suivante pour permettre de calculer l'âge de n'importe quelle personne sans rajouter de fonction."
   ]
  },
  {
   "cell_type": "code",
   "execution_count": null,
   "metadata": {},
   "outputs": [],
   "source": [
    "\"\"\" Code exercice 1 à modifier \"\"\"\n",
    "\n",
    "############ Fonctions ######################################\n",
    "def annee_naissance():\n",
    "    \"\"\" Fonction permettant de renvoyer la date de naissance de la personne\"\"\"\n",
    "    res=int(input(\"Entrer l'année de naissance :\"))\n",
    "    return res\n",
    "\n",
    "def prenom():\n",
    "    \"\"\" Fonction permettant de renvoyer la date de naissance de la personne\"\"\"\n",
    "    res=input(\"Entrer le prénom :\")\n",
    "    return res\n",
    "\n",
    "def calcul_age():\n",
    "    \"\"\" Fonction permettant de calculer l'âge d'une personne\"\"\"\n",
    "    age=annee_actuelle-naissance\n",
    "    print('En',annee_actuelle,',',pre,'a',age,'ans')\n",
    "\n",
    "\n",
    "################ programme principal ############################\n",
    "\n",
    "# calcul de l'âge de Sophie\n",
    "naissance=annee_naissance()\n",
    "pre=prenom()\n",
    "calcul_age()  #appel de la fonction calcul_age()\n",
    "\n",
    "\n",
    "# calcul de l'âge de Pierre\n",
    "naissance=annee_naissance()\n",
    "pre=prenom()\n",
    "calcul_age() #appel de la fonction calcul_age()"
   ]
  },
  {
   "cell_type": "markdown",
   "metadata": {},
   "source": [
    "### Exercice 2 (si vous avez le temps) :\n",
    "Reprendre le script binaire_sans_fonction.py écrit ci-dessous.\n",
    "Le modifier en créant une fonction nombre_decimal()sans paramètre permettant de convertir le nombre binaire en base 10."
   ]
  },
  {
   "cell_type": "code",
   "execution_count": null,
   "metadata": {},
   "outputs": [],
   "source": [
    "\"\"\" code sans fonction à modifier \"\"\"\n",
    "\n",
    "print(\"entrez les valeurs des 8 bits d'un octet: 0 ou 1\")  \n",
    "nb_decimal = 0  \n",
    "\n",
    "for i in range(8) :\n",
    "    bit = int(input())  \n",
    "    nb_decimal = nb_decimal+ bit*2**(7-i)  \n",
    "\n",
    "print(\"ce nombre binaire s'écrit en nombre décimal :\" , nb_decimal)  #"
   ]
  },
  {
   "cell_type": "code",
   "execution_count": null,
   "metadata": {},
   "outputs": [],
   "source": [
    "\"\"\" Code exercice 2 à compléter\"\"\"\n",
    "###############\n",
    "#  fonction   #\n",
    "###############\n",
    "\n",
    "\n",
    "def nombre_decimal():\n",
    "    \"\"\" conversion d'un nombre en écriture binaire de 8 bits en écriture décimale\n",
    "        Cette fonction retourne un nombre entier compris entre 0 et 255\n",
    "    \"\"\"\n",
    "\n",
    "    \n",
    "    \n",
    "#########################\n",
    "#  programme principal  #\n",
    "#########################\n",
    "\n",
    "\n",
    "print(\"entrez les valeurs des 8 bits d'un octet en commençant par la valeur la plus à gauche\\n\")\n",
    "print(\"ce nombre binaire s'écrit en nombre décimal :\" , nombre_decimal()) \n"
   ]
  },
  {
   "cell_type": "markdown",
   "metadata": {},
   "source": [
    "## <font color=#3D6BBC> Fonctions <u>avec</u> paramètre(s)</font>"
   ]
  },
  {
   "cell_type": "markdown",
   "metadata": {},
   "source": [
    "<u><strong>Exemple 1</strong></u> : Soit la fonction cube permettant de calculer le cube de différents nombres.  \n",
    "Exécutez le code suivant.  \n",
    "Testez-le  pour calculer le cube de -2, 0 ou 20."
   ]
  },
  {
   "cell_type": "code",
   "execution_count": null,
   "metadata": {},
   "outputs": [],
   "source": [
    "def cube(): \n",
    "    return x**3\n",
    "x=2\n",
    "cube() "
   ]
  },
  {
   "cell_type": "markdown",
   "metadata": {},
   "source": [
    "<u><strong>Exemple 2 :</strong></u> : Nous souhaitons maintenant calculer le cube des entiers inférieurs à 7, on va donc définir une fonction utilisant un <strong><font size='3'>paramètre x </font></strong> comme ci-dessous et calculant le cube de ce nombre x.   \n",
    "Exécutez le code suivant.  \n",
    "Testez-le  pour calculer le cube des entiers inférieurs à 7. Ces valeurs sont appelées <strong><font size='3'>arguments</font></strong>."
   ]
  },
  {
   "cell_type": "code",
   "execution_count": null,
   "metadata": {},
   "outputs": [],
   "source": [
    "def cube(x): # x est le paramètre\n",
    "    return x**3\n",
    "cube(2) #2 est l'argument "
   ]
  },
  {
   "cell_type": "markdown",
   "metadata": {},
   "source": [
    "<div class=\"bg-info\">\n",
    "<font size='4' color=#3D6BBC> Syntaxe de python pour les fonctions <u> avec </u> paramètre(s) : </font>\n",
    "\n",
    "<center> <strong><font color =red size='3'>    def nom_de_la_fonction (paramètre1,paramètre2,...):   </font></strong>  </center>\n",
    "\n",
    "<center> <strong><font color =red size='3'>#bloc d'instructions  </font></strong>  </center>\n",
    "\n",
    "<ul>\n",
    "    <li>La syntaxe est la même que pour la fonction sans paramètre.</li>\n",
    "     <li>La fonction est appelée dans le programme principal par le code : <strong> <font size='3'> nom_de_la_fonction(argument1, argument2 ...)</font></strong></li> \n",
    "</ul>\n",
    "</div>"
   ]
  },
  {
   "cell_type": "markdown",
   "metadata": {},
   "source": [
    "### Exercice 3 : Intérêt de la fonction avec paramètre(s)\n",
    "Ecrire maintenant le code permettant de calculer et d'afficher le cube des entiers inférieurs à 7."
   ]
  },
  {
   "cell_type": "code",
   "execution_count": null,
   "metadata": {},
   "outputs": [],
   "source": [
    "\"\"\"Code de l'exercice 3 \"\"\""
   ]
  },
  {
   "cell_type": "markdown",
   "metadata": {},
   "source": [
    "<u><strong>Conclure :</strong></u> <font color=red>..........................................</font>"
   ]
  },
  {
   "cell_type": "markdown",
   "metadata": {},
   "source": [
    "### Exercice 4 :\n",
    "Reprendre le code de l'exercice 1.\n",
    "Le modifier en remplaçant les 3 fonctions par une seule fonction calcul_age(paramètre1,paramètre2) avec 2 paramètres bien choisis."
   ]
  },
  {
   "cell_type": "code",
   "execution_count": null,
   "metadata": {},
   "outputs": [],
   "source": [
    "\"\"\" Code de l'exercice 4\"\"\""
   ]
  },
  {
   "cell_type": "markdown",
   "metadata": {},
   "source": [
    "### Exercice 5 (pour aller plus loin) : \n",
    "Reprendre le script de l'exercice 2.\n",
    "Le modifier en créant une fonction sans paramètre recuperer_nb_binaire() et une fonction avec paramètre nombre_decimal(L).\n",
    "Cette fonction permettant de convertir le nombre binaire en base 10."
   ]
  },
  {
   "cell_type": "code",
   "execution_count": null,
   "metadata": {},
   "outputs": [],
   "source": [
    "\"\"\" Code de l'exercice 5 \"\"\"\n",
    "############ Fonctions ######################################\n",
    "\n",
    "def recuperer_nb_binaire():\n",
    "    \"\"\" recupération par saisie clavier d'un nombre binaire de 8 octets \n",
    "        nb_binaire est une variable locale de type liste\n",
    "        Cette fonction retourne une liste de 8 élèments entiers\n",
    "    \"\"\" \n",
    "\n",
    "def nombre_decimal(L):\n",
    "    \"\"\" conversion d'un nombre en écriture binaire de 8 bits en écriture décimale\n",
    "        L : paramètre de type list de 8 éléments\n",
    "        nb_decimal est une variable locale\n",
    "        Cette fonction retourne un nombre entier compris entre 0 et 255\n",
    "    \"\"\"\n",
    "    \n",
    "#########################\n",
    "#  programme principal  #\n",
    "#########################\n"
   ]
  },
  {
   "cell_type": "markdown",
   "metadata": {},
   "source": [
    "Si besoin, une aide pour l'utilisation de liste en python<a href=\"https://docs.python.org/fr/3.6/tutorial/datastructures.html\"> ici </a>"
   ]
  },
  {
   "cell_type": "markdown",
   "metadata": {},
   "source": [
    "<u><strong>Sources : </strong></u>\n",
    "* le livre de Gérard Swinnen « Apprendre à programmer avec Python 3 » disponible sous licence CC BY-NC-SA 2.0.\n",
    "* https://www.culture-informatique.net/japprends-a-programmer-fonctions/\n",
    "* https://docs.python.org/fr/3.6/tutorial/datastructures.html"
   ]
  }
 ],
 "metadata": {
  "celltoolbar": "Aucun(e)",
  "kernelspec": {
   "display_name": "Python 3",
   "language": "python",
   "name": "python3"
  },
  "language_info": {
   "codemirror_mode": {
    "name": "ipython",
    "version": 3
   },
   "file_extension": ".py",
   "mimetype": "text/x-python",
   "name": "python",
   "nbconvert_exporter": "python",
   "pygments_lexer": "ipython3",
   "version": "3.7.1"
  }
 },
 "nbformat": 4,
 "nbformat_minor": 2
}
